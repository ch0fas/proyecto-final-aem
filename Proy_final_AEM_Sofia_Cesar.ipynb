{
 "cells": [
  {
   "cell_type": "markdown",
   "id": "af5e1115",
   "metadata": {},
   "source": [
    "# Proyecto Final AEM\n",
    "- Sofía Maldonado \n",
    "- César"
   ]
  },
  {
   "cell_type": "code",
   "execution_count": null,
   "id": "a0492ac8",
   "metadata": {
    "vscode": {
     "languageId": "plaintext"
    }
   },
   "outputs": [],
   "source": []
  }
 ],
 "metadata": {
  "language_info": {
   "name": "python"
  }
 },
 "nbformat": 4,
 "nbformat_minor": 5
}
